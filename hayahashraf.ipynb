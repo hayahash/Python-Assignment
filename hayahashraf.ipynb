{
  "nbformat": 4,
  "nbformat_minor": 0,
  "metadata": {
    "colab": {
      "provenance": []
    },
    "kernelspec": {
      "name": "python3",
      "display_name": "Python 3"
    },
    "language_info": {
      "name": "python"
    }
  },
  "cells": [
    {
      "cell_type": "code",
      "execution_count": null,
      "metadata": {
        "colab": {
          "base_uri": "https://localhost:8080/"
        },
        "id": "5p4IbpbKop_W",
        "outputId": "8f81fb6c-8f13-4508-e20f-04c9cc0bc9cd"
      },
      "outputs": [
        {
          "output_type": "execute_result",
          "data": {
            "text/plain": [
              "3.141592653589793"
            ]
          },
          "metadata": {},
          "execution_count": 6
        }
      ],
      "source": [
        "1.#find the are of the circle\n",
        "import math\n",
        "math.pi"
      ]
    },
    {
      "cell_type": "code",
      "source": [
        "#(radius=3)\n",
        "pi=math.pi\n",
        "pi*3**2\n",
        "area="
      ],
      "metadata": {
        "colab": {
          "base_uri": "https://localhost:8080/"
        },
        "id": "gpujr72totNr",
        "outputId": "5da8531d-3ab0-4dba-d11b-6bb0a0c18436"
      },
      "execution_count": null,
      "outputs": [
        {
          "output_type": "execute_result",
          "data": {
            "text/plain": [
              "28.274333882308138"
            ]
          },
          "metadata": {},
          "execution_count": 5
        }
      ]
    },
    {
      "cell_type": "code",
      "source": [
        "\n",
        "2.# Write a Python program to convert Celsius to Fahrenheit using the formula F = (C * 9/5) + 32\n",
        "celsius = 23\n",
        "fahrenheit = (celsius * 9/5) + 32\n",
        "print(\"The Fahrenheit temperature is\", fahrenheit)"
      ],
      "metadata": {
        "id": "O1ADBXwnqgi7",
        "colab": {
          "base_uri": "https://localhost:8080/"
        },
        "outputId": "cafe1d35-570b-4362-ff64-feba03439031"
      },
      "execution_count": null,
      "outputs": [
        {
          "output_type": "stream",
          "name": "stdout",
          "text": [
            "The Fahrenheit temperature is 73.4\n"
          ]
        }
      ]
    },
    {
      "cell_type": "code",
      "source": [
        "3.# write a python program to find the quotient and reminder of two numbers using the division operator / and the modulus operator."
      ],
      "metadata": {
        "id": "S2Go5M2KL3Ky"
      },
      "execution_count": null,
      "outputs": []
    },
    {
      "cell_type": "code",
      "source": [
        "divisor=5\n",
        "divident=20\n",
        "quotient=divident/divisor\n",
        "reminder=divident%divisor\n",
        "print('the quotientis:',quotient)\n",
        "print('the reminder is',reminder)"
      ],
      "metadata": {
        "colab": {
          "base_uri": "https://localhost:8080/"
        },
        "id": "-yX8PouXsT2H",
        "outputId": "d5ff8b1f-5269-4e5a-aae0-7951d9913bdc"
      },
      "execution_count": 1,
      "outputs": [
        {
          "output_type": "stream",
          "name": "stdout",
          "text": [
            "the quotientis: 4.0\n",
            "the reminder is 0\n"
          ]
        }
      ]
    },
    {
      "cell_type": "code",
      "source": [
        "4.# write a python programe to check wheather a given number is even or odd using the modulus operator\n",
        "number=20\n",
        "if number%2==0:\n",
        "  print('the number is even')\n",
        "else:\n",
        "  print('the number is odd')\n",
        "\n"
      ],
      "metadata": {
        "colab": {
          "base_uri": "https://localhost:8080/"
        },
        "id": "JKQkOLIqsUU3",
        "outputId": "a81bfa2a-d120-47f4-866e-4ca3fc626817"
      },
      "execution_count": 3,
      "outputs": [
        {
          "output_type": "stream",
          "name": "stdout",
          "text": [
            "the number is even\n"
          ]
        }
      ]
    },
    {
      "cell_type": "code",
      "source": [
        "5.#write a python program to calculate the average of three numbers entered by the user.\n",
        "num1=100\n",
        "num2=200\n",
        "num3=300\n",
        "average=(num1+num2+num3)/3\n",
        "print('the average of the three numbers are ',average)"
      ],
      "metadata": {
        "colab": {
          "base_uri": "https://localhost:8080/"
        },
        "id": "cgt15AaqsUvJ",
        "outputId": "575b0249-9704-4476-eb0b-b3166378d241"
      },
      "execution_count": 4,
      "outputs": [
        {
          "output_type": "stream",
          "name": "stdout",
          "text": [
            "the average of the three numbers are  200.0\n"
          ]
        }
      ]
    },
    {
      "cell_type": "code",
      "source": [
        "6.#write a python program to swap two variables without using a temporary variable\n",
        "x=10\n",
        "y=20\n",
        "x=x^y\n",
        "y=x^y\n",
        "z=x^y\n",
        "print('the value of x is',x)\n",
        "print('the value of y is',y)\n",
        "\n",
        "\n"
      ],
      "metadata": {
        "colab": {
          "base_uri": "https://localhost:8080/"
        },
        "id": "39iBoVAxv_Sq",
        "outputId": "70290914-3587-4f7b-8161-de9645a3671d"
      },
      "execution_count": 5,
      "outputs": [
        {
          "output_type": "stream",
          "name": "stdout",
          "text": [
            "the value of x is 30\n",
            "the value of y is 10\n"
          ]
        }
      ]
    },
    {
      "cell_type": "code",
      "source": [
        "7.#write a python program to find the area of a rectangle with the given length and breadth\n",
        "length=4\n",
        "breadth=8\n",
        "area=length*breadth\n",
        "print('the area of the rectangle is',area)\n"
      ],
      "metadata": {
        "colab": {
          "base_uri": "https://localhost:8080/"
        },
        "id": "lRVk0ExcxU_Y",
        "outputId": "11fd2ca4-ffc4-4c7a-d24a-ff2aebc81d25"
      },
      "execution_count": 6,
      "outputs": [
        {
          "output_type": "stream",
          "name": "stdout",
          "text": [
            "the area of the rectangle is 32\n"
          ]
        }
      ]
    },
    {
      "cell_type": "code",
      "source": [
        "8.#write a python program to find the sum of the digits os three-digit number\n",
        "number=321\n",
        "sum_of_digits=number//100+(number%100)//10+number%10\n",
        "print('the sum of the digits of the number is',sum_of_digits)\n",
        "\n",
        "\n",
        "\n"
      ],
      "metadata": {
        "colab": {
          "base_uri": "https://localhost:8080/"
        },
        "id": "LJ24W7MZyDTj",
        "outputId": "c8d84dec-a80c-4097-b1f1-422a0358f876"
      },
      "execution_count": 8,
      "outputs": [
        {
          "output_type": "stream",
          "name": "stdout",
          "text": [
            "the sum of the digits of the number is 6\n"
          ]
        }
      ]
    },
    {
      "cell_type": "code",
      "source": [
        "9.#write a program to check wheather a given year is a leap year or not"
      ],
      "metadata": {
        "id": "-LpxsonNy_Lq"
      },
      "execution_count": null,
      "outputs": []
    },
    {
      "cell_type": "code",
      "source": [
        "year=2024\n",
        "if year%4==0:\n",
        "  if year%100==0:\n",
        "    if year%400==0:\n",
        "      print('the year is a leap year')\n",
        "else:\n",
        "      print('the year is not a leap year')\n",
        ""
      ],
      "metadata": {
        "id": "lAcyRu4qzuJs"
      },
      "execution_count": 19,
      "outputs": []
    },
    {
      "cell_type": "code",
      "source": [
        "10.#write a python programme to find the minimum and maximum of two numbers entered by the user.\n",
        "num1=float(input('enter the first number:'))\n",
        "num2=float(input('enter the second number:'))\n",
        "if num1>num2:\n",
        "  max_num=num1\n",
        "else:\n",
        "  max_num=num2\n",
        "if num1<num2:\n",
        "  min_num=num1\n",
        "else:\n",
        "  min_num=num2\n",
        "print('the maximum of the two numbers is',max_num)\n",
        "print('the minimum of the two numbers is',min_num)\n",
        "\n",
        "\n",
        "\n",
        "\n",
        "\n",
        "\n",
        "\n",
        "\n"
      ],
      "metadata": {
        "colab": {
          "base_uri": "https://localhost:8080/"
        },
        "id": "wpua8BmRzW40",
        "outputId": "589a5083-10f8-4f75-a698-05268e6590fc"
      },
      "execution_count": 26,
      "outputs": [
        {
          "output_type": "stream",
          "name": "stdout",
          "text": [
            "enter the first number:10\n",
            "enter the second number:20\n",
            "the maximum of the two numbers is 20.0\n",
            "the minimum of the two numbers is 10.0\n"
          ]
        }
      ]
    },
    {
      "cell_type": "code",
      "source": [],
      "metadata": {
        "id": "ciq1Mzar4WaM"
      },
      "execution_count": null,
      "outputs": []
    }
  ]
}